{
 "cells": [
  {
   "cell_type": "code",
   "execution_count": 1,
   "metadata": {
    "collapsed": false
   },
   "outputs": [
    {
     "name": "stderr",
     "output_type": "stream",
     "text": [
      "Using TensorFlow backend.\n"
     ]
    }
   ],
   "source": [
    "%matplotlib inline\n",
    "import matplotlib.pyplot as plt\n",
    "import numpy as np; np.random.seed(123)\n",
    "import pandas as pd\n",
    "\n",
    "# Backend\n",
    "import tensorflow as tf\n",
    "\n",
    "import keras\n",
    "from keras.models import Sequential\n",
    "from keras.layers.core import Dense, Dropout, Activation, Flatten\n",
    "from keras.optimizers import SGD, Adam, RMSprop, Adagrad\n",
    "from keras.regularizers import l1,l2\n",
    "from keras.callbacks import EarlyStopping, ModelCheckpoint\n",
    "from keras.layers.convolutional import Convolution2D, MaxPooling2D\n",
    "from keras.utils import np_utils\n",
    "import keras.backend as K\n",
    "from keras.models import load_model\n",
    "\n",
    "# Scikit learn\n",
    "import sklearn as sk\n",
    "from sklearn import metrics\n",
    "from sklearn.model_selection import train_test_split\n",
    "from sklearn.metrics import precision_score, \\\n",
    "    recall_score, confusion_matrix, classification_report, \\\n",
    "    accuracy_score, f1_score\n",
    "    \n",
    "# IO\n",
    "import paratext"
   ]
  },
  {
   "cell_type": "markdown",
   "metadata": {},
   "source": [
    "## Read Data"
   ]
  },
  {
   "cell_type": "code",
   "execution_count": 4,
   "metadata": {
    "collapsed": false
   },
   "outputs": [
    {
     "name": "stdout",
     "output_type": "stream",
     "text": [
      "CPU times: user 28.8 s, sys: 2.8 s, total: 31.6 s\n",
      "Wall time: 25 s\n",
      "CPU times: user 27.5 s, sys: 1.64 s, total: 29.2 s\n",
      "Wall time: 7.82 s\n"
     ]
    }
   ],
   "source": [
    "%%time\n",
    "# df_all = pd.read_csv('./casted_data_norm.csv', encoding=\"utf-8\")\n",
    "df_all = paratext.load_csv_to_pandas('./data/casted_data_norm.csv', in_encoding='utf-8')"
   ]
  },
  {
   "cell_type": "code",
   "execution_count": 6,
   "metadata": {
    "collapsed": false
   },
   "outputs": [
    {
     "name": "stdout",
     "output_type": "stream",
     "text": [
      "(293941, 604)\n"
     ]
    },
    {
     "data": {
      "text/html": [
       "<div>\n",
       "<table border=\"1\" class=\"dataframe\">\n",
       "  <thead>\n",
       "    <tr style=\"text-align: right;\">\n",
       "      <th></th>\n",
       "      <th>NUM</th>\n",
       "      <th>201508_AUM</th>\n",
       "      <th>201508_CARD_DELIN_AMT</th>\n",
       "      <th>201508_JCIC_CA_AMT</th>\n",
       "      <th>201508_JCIC_CASH_LIMIT</th>\n",
       "      <th>201508_JCIC_LAST_PAY</th>\n",
       "      <th>201508_JCIC_PAYABLE</th>\n",
       "      <th>201508_JCIC_PERM_LIMIT</th>\n",
       "      <th>201508_JCIC_PRE_BILLED</th>\n",
       "      <th>201508_JCIC_PRE_CASHED</th>\n",
       "      <th>...</th>\n",
       "      <th>201607_TSB_INSTL_PRD1_AMT</th>\n",
       "      <th>201607_TSB_INSTL_PRD2_AMT</th>\n",
       "      <th>201607_TSB_INSTL_PRD3_AMT</th>\n",
       "      <th>201607_TSB_LOL_AMT</th>\n",
       "      <th>201607_TSB_LOLFEE_AMT</th>\n",
       "      <th>201607_TSB_ONCECA_AMT</th>\n",
       "      <th>201607_TSB_SPD_AMT</th>\n",
       "      <th>RSP_AMT</th>\n",
       "      <th>RSP_FLG</th>\n",
       "      <th>RSP_FLG_N</th>\n",
       "    </tr>\n",
       "  </thead>\n",
       "  <tbody>\n",
       "    <tr>\n",
       "      <th>0</th>\n",
       "      <td>1</td>\n",
       "      <td>-11.512925</td>\n",
       "      <td>-11.512925</td>\n",
       "      <td>-11.512925</td>\n",
       "      <td>5.505332</td>\n",
       "      <td>9.579003</td>\n",
       "      <td>9.289151</td>\n",
       "      <td>5.991465</td>\n",
       "      <td>-11.512925</td>\n",
       "      <td>-11.512925</td>\n",
       "      <td>...</td>\n",
       "      <td>-11.512925</td>\n",
       "      <td>-11.512925</td>\n",
       "      <td>-11.512925</td>\n",
       "      <td>-11.512925</td>\n",
       "      <td>-11.512925</td>\n",
       "      <td>-11.512925</td>\n",
       "      <td>-11.512925</td>\n",
       "      <td>0</td>\n",
       "      <td>0</td>\n",
       "      <td>1</td>\n",
       "    </tr>\n",
       "    <tr>\n",
       "      <th>1</th>\n",
       "      <td>10</td>\n",
       "      <td>9.047468</td>\n",
       "      <td>-11.512925</td>\n",
       "      <td>-11.512925</td>\n",
       "      <td>6.152733</td>\n",
       "      <td>11.506092</td>\n",
       "      <td>11.018859</td>\n",
       "      <td>6.393591</td>\n",
       "      <td>-11.512925</td>\n",
       "      <td>-11.512925</td>\n",
       "      <td>...</td>\n",
       "      <td>-11.512925</td>\n",
       "      <td>-11.512925</td>\n",
       "      <td>-11.512925</td>\n",
       "      <td>-11.512925</td>\n",
       "      <td>-11.512925</td>\n",
       "      <td>-11.512925</td>\n",
       "      <td>10.611129</td>\n",
       "      <td>0</td>\n",
       "      <td>0</td>\n",
       "      <td>1</td>\n",
       "    </tr>\n",
       "    <tr>\n",
       "      <th>2</th>\n",
       "      <td>100</td>\n",
       "      <td>-11.512925</td>\n",
       "      <td>-11.512925</td>\n",
       "      <td>-11.512925</td>\n",
       "      <td>5.442418</td>\n",
       "      <td>4.663439</td>\n",
       "      <td>10.079288</td>\n",
       "      <td>6.142037</td>\n",
       "      <td>-11.512925</td>\n",
       "      <td>-11.512925</td>\n",
       "      <td>...</td>\n",
       "      <td>-11.512925</td>\n",
       "      <td>-11.512925</td>\n",
       "      <td>-11.512925</td>\n",
       "      <td>-11.512925</td>\n",
       "      <td>-11.512925</td>\n",
       "      <td>-11.512925</td>\n",
       "      <td>-11.512925</td>\n",
       "      <td>0</td>\n",
       "      <td>0</td>\n",
       "      <td>1</td>\n",
       "    </tr>\n",
       "    <tr>\n",
       "      <th>3</th>\n",
       "      <td>1000</td>\n",
       "      <td>12.816524</td>\n",
       "      <td>-11.512925</td>\n",
       "      <td>-11.512925</td>\n",
       "      <td>6.327937</td>\n",
       "      <td>8.672144</td>\n",
       "      <td>8.816112</td>\n",
       "      <td>6.775366</td>\n",
       "      <td>-11.512925</td>\n",
       "      <td>-11.512925</td>\n",
       "      <td>...</td>\n",
       "      <td>-11.512925</td>\n",
       "      <td>-11.512925</td>\n",
       "      <td>-11.512925</td>\n",
       "      <td>-11.512925</td>\n",
       "      <td>-11.512925</td>\n",
       "      <td>-11.512925</td>\n",
       "      <td>8.513186</td>\n",
       "      <td>0</td>\n",
       "      <td>0</td>\n",
       "      <td>1</td>\n",
       "    </tr>\n",
       "    <tr>\n",
       "      <th>4</th>\n",
       "      <td>10000</td>\n",
       "      <td>-11.512925</td>\n",
       "      <td>-11.512925</td>\n",
       "      <td>-11.512925</td>\n",
       "      <td>5.996452</td>\n",
       "      <td>8.668712</td>\n",
       "      <td>8.719481</td>\n",
       "      <td>6.532334</td>\n",
       "      <td>-11.512925</td>\n",
       "      <td>-11.512925</td>\n",
       "      <td>...</td>\n",
       "      <td>-11.512925</td>\n",
       "      <td>-11.512925</td>\n",
       "      <td>-11.512925</td>\n",
       "      <td>-11.512925</td>\n",
       "      <td>-11.512925</td>\n",
       "      <td>-11.512925</td>\n",
       "      <td>6.907755</td>\n",
       "      <td>0</td>\n",
       "      <td>0</td>\n",
       "      <td>1</td>\n",
       "    </tr>\n",
       "  </tbody>\n",
       "</table>\n",
       "<p>5 rows × 604 columns</p>\n",
       "</div>"
      ],
      "text/plain": [
       "     NUM  201508_AUM  201508_CARD_DELIN_AMT  201508_JCIC_CA_AMT  \\\n",
       "0      1  -11.512925             -11.512925          -11.512925   \n",
       "1     10    9.047468             -11.512925          -11.512925   \n",
       "2    100  -11.512925             -11.512925          -11.512925   \n",
       "3   1000   12.816524             -11.512925          -11.512925   \n",
       "4  10000  -11.512925             -11.512925          -11.512925   \n",
       "\n",
       "   201508_JCIC_CASH_LIMIT  201508_JCIC_LAST_PAY  201508_JCIC_PAYABLE  \\\n",
       "0                5.505332              9.579003             9.289151   \n",
       "1                6.152733             11.506092            11.018859   \n",
       "2                5.442418              4.663439            10.079288   \n",
       "3                6.327937              8.672144             8.816112   \n",
       "4                5.996452              8.668712             8.719481   \n",
       "\n",
       "   201508_JCIC_PERM_LIMIT  201508_JCIC_PRE_BILLED  201508_JCIC_PRE_CASHED  \\\n",
       "0                5.991465              -11.512925              -11.512925   \n",
       "1                6.393591              -11.512925              -11.512925   \n",
       "2                6.142037              -11.512925              -11.512925   \n",
       "3                6.775366              -11.512925              -11.512925   \n",
       "4                6.532334              -11.512925              -11.512925   \n",
       "\n",
       "     ...      201607_TSB_INSTL_PRD1_AMT  201607_TSB_INSTL_PRD2_AMT  \\\n",
       "0    ...                     -11.512925                 -11.512925   \n",
       "1    ...                     -11.512925                 -11.512925   \n",
       "2    ...                     -11.512925                 -11.512925   \n",
       "3    ...                     -11.512925                 -11.512925   \n",
       "4    ...                     -11.512925                 -11.512925   \n",
       "\n",
       "   201607_TSB_INSTL_PRD3_AMT  201607_TSB_LOL_AMT  201607_TSB_LOLFEE_AMT  \\\n",
       "0                 -11.512925          -11.512925             -11.512925   \n",
       "1                 -11.512925          -11.512925             -11.512925   \n",
       "2                 -11.512925          -11.512925             -11.512925   \n",
       "3                 -11.512925          -11.512925             -11.512925   \n",
       "4                 -11.512925          -11.512925             -11.512925   \n",
       "\n",
       "   201607_TSB_ONCECA_AMT  201607_TSB_SPD_AMT  RSP_AMT  RSP_FLG  RSP_FLG_N  \n",
       "0             -11.512925          -11.512925        0        0          1  \n",
       "1             -11.512925           10.611129        0        0          1  \n",
       "2             -11.512925          -11.512925        0        0          1  \n",
       "3             -11.512925            8.513186        0        0          1  \n",
       "4             -11.512925            6.907755        0        0          1  \n",
       "\n",
       "[5 rows x 604 columns]"
      ]
     },
     "execution_count": 6,
     "metadata": {},
     "output_type": "execute_result"
    }
   ],
   "source": [
    "df_all = df_all.assign(RSP_FLG_N = 1-df_all.RSP_FLG)\n",
    "print(df_all.shape)\n",
    "df_all.head()"
   ]
  },
  {
   "cell_type": "code",
   "execution_count": 4,
   "metadata": {
    "collapsed": false
   },
   "outputs": [
    {
     "name": "stdout",
     "output_type": "stream",
     "text": [
      "600\n"
     ]
    }
   ],
   "source": [
    "print(len(df_all.columns.values) - 4)\n",
    "# 600 = 12 * 50"
   ]
  },
  {
   "cell_type": "code",
   "execution_count": 5,
   "metadata": {
    "collapsed": false
   },
   "outputs": [],
   "source": [
    "X_train, X_test, Y_train, Y_test = \\\n",
    "    train_test_split(\n",
    "        df_all.iloc[:, 1:-3].as_matrix(), \n",
    "        df_all[['RSP_FLG_N', 'RSP_FLG']].as_matrix(),\n",
    "        test_size=0.33,\n",
    "        random_state=42)"
   ]
  },
  {
   "cell_type": "code",
   "execution_count": 6,
   "metadata": {
    "collapsed": false
   },
   "outputs": [
    {
     "name": "stdout",
     "output_type": "stream",
     "text": [
      "(196940, 600)\n",
      "(97001, 600)\n",
      "(196940, 2)\n",
      "(97001, 2)\n"
     ]
    }
   ],
   "source": [
    "[print(x.shape) for x in [X_train, X_test, Y_train, Y_test]];"
   ]
  },
  {
   "cell_type": "code",
   "execution_count": 7,
   "metadata": {
    "collapsed": false
   },
   "outputs": [],
   "source": [
    "# input image dimensions\n",
    "img_rows, img_cols = 12, 50\n",
    "nb_classes = 2  # 2 digits from 0 to 1\n",
    "\n",
    "# Reshape data\n",
    "X_train = X_train.reshape(X_train.shape[0], img_rows, img_cols, 1)\n",
    "X_test = X_test.reshape(X_test.shape[0], img_rows, img_cols, 1)\n",
    "X_train = X_train.astype(\"float32\")\n",
    "X_test = X_test.astype(\"float32\")"
   ]
  },
  {
   "cell_type": "code",
   "execution_count": 8,
   "metadata": {
    "collapsed": false
   },
   "outputs": [
    {
     "name": "stdout",
     "output_type": "stream",
     "text": [
      "X_train shape: (196940, 12, 50, 1)\n",
      "196940 train samples\n",
      "97001 test samples\n",
      "One hot encoding:\n",
      "[[1 0]\n",
      " [1 0]\n",
      " [1 0]\n",
      " [1 0]\n",
      " [1 0]]\n"
     ]
    }
   ],
   "source": [
    "print('X_train shape:', X_train.shape)\n",
    "print(X_train.shape[0], 'train samples')\n",
    "print(X_test.shape[0], 'test samples')\n",
    "print(\"One hot encoding:\\n{}\".format(Y_train[0:5, :]))"
   ]
  },
  {
   "cell_type": "code",
   "execution_count": 57,
   "metadata": {
    "collapsed": false
   },
   "outputs": [],
   "source": [
    "# Optimizer\n",
    "sgd = SGD(lr=0.17,momentum=0.9,decay=0.01,nesterov=False)\n",
    "adam = Adam(decay=0.001)\n",
    "\n",
    "# Early Stopping\n",
    "earlyStopping=EarlyStopping(monitor= 'val_loss', patience=20)\n",
    "\n",
    "# Class weight\n",
    "class_weight = {0: .1, 1: .9}\n",
    "\n",
    "# Custom metrics\n",
    "def custom_metrics(y_true_, y_pred_, beta=1):\n",
    "    y_true = K.cast(K.argmax(y_true_, 1), dtype=tf.float32)\n",
    "    y_pred = K.cast(K.argmax(y_pred_, 1), dtype=tf.float32)\n",
    "    \n",
    "    true_positives = K.sum(K.round(K.clip(y_true * y_pred, 0, 1)))\n",
    "    possible_positives = K.sum(K.round(K.clip(y_true, 0, 1)))\n",
    "    predicted_positives = K.sum(K.round(K.clip(y_pred, 0, 1)))\n",
    "    \n",
    "    recall = true_positives / (possible_positives +  K.epsilon())\n",
    "    precision = true_positives / (predicted_positives + K.epsilon())\n",
    "    \n",
    "    if beta < 0:\n",
    "        raise ValueError('The lowest choosable beta is zero (only precision).')\n",
    "    \n",
    "    # If there are no true positives, fix the F score at 0 like sklearn.\n",
    "    if K.sum(K.round(K.clip(y_true, 0, 1))) == 0:\n",
    "        return 0\n",
    "\n",
    "    p = precision\n",
    "    r = recall\n",
    "    bb = beta ** 2\n",
    "    fbeta_score = (1 + bb) * (p * r) / (bb * p + r + K.epsilon())\n",
    "    return {'precision': precision, 'recall': recall, 'fbeta_score': fbeta_score}\n",
    "\n",
    "# Callback - https://keras.io/callbacks/#create-a-callback\n",
    "class LossHistory(keras.callbacks.Callback):\n",
    "    def on_train_begin(self, logs={}):\n",
    "        self.losses = []\n",
    "\n",
    "    def on_batch_end(self, batch, logs={}):\n",
    "        self.losses.append(logs.get('loss'))\n",
    "history = LossHistory()\n",
    "\n",
    "# Checkpoint\n",
    "checkpointer = ModelCheckpoint(filepath=\"model_keras/weights.hdf5\", \n",
    "                               monitor='val_loss',\n",
    "                               verbose=1, \n",
    "                               save_best_only=True)"
   ]
  },
  {
   "cell_type": "code",
   "execution_count": 40,
   "metadata": {
    "collapsed": false
   },
   "outputs": [],
   "source": [
    "# Claim a sequential model\n",
    "model = Sequential()\n",
    "\n",
    "# Input layer\n",
    "model.add(Convolution2D(512, 3, 3, input_shape=(img_rows, img_cols, 1), border_mode='same'))\n",
    "model.add(Activation('relu'))\n",
    "model.add(MaxPooling2D(pool_size=(2, 2)))\n",
    "\n",
    "model.add(Convolution2D(256, 3, 3, border_mode='same'))\n",
    "model.add(Activation('relu'))\n",
    "model.add(MaxPooling2D(pool_size=(2, 2)))\n",
    "\n",
    "model.add(Convolution2D(32, 3, 3))\n",
    "model.add(Activation('relu'))\n",
    "# Dropout\n",
    "model.add(Dropout(0.2))\n",
    "\n",
    "# Full-connection\n",
    "model.add(Flatten())\n",
    "model.add(Dense(1024))\n",
    "model.add(Activation('relu'))\n",
    "\n",
    "model.add(Dropout(0.2))\n",
    "model.add(Dense(2, activation = 'softmax', name = 'output'))"
   ]
  },
  {
   "cell_type": "code",
   "execution_count": 42,
   "metadata": {
    "collapsed": false
   },
   "outputs": [],
   "source": [
    "model.compile(loss='categorical_crossentropy', \n",
    "              optimizer = adam, \n",
    "              metrics=['accuracy', custom_metrics])"
   ]
  },
  {
   "cell_type": "code",
   "execution_count": null,
   "metadata": {
    "collapsed": false,
    "scrolled": true
   },
   "outputs": [
    {
     "name": "stdout",
     "output_type": "stream",
     "text": [
      "Train on 33500 samples, validate on 16500 samples\n",
      "Epoch 1/30\n",
      "33000/33500 [============================>.] - ETA: 9s - loss: 0.0312 - acc: 0.9448 - recall: 0.5294 - fbeta_score: 0.2706 - precision: 0.1906 Epoch 00000: val_loss improved from inf to 0.02992, saving model to model_keras/weights.hdf5\n",
      "33500/33500 [==============================] - 746s - loss: 0.0313 - acc: 0.9448 - recall: 0.5310 - fbeta_score: 0.2722 - precision: 0.1917 - val_loss: 0.0299 - val_acc: 0.9522 - val_recall: 0.5101 - val_fbeta_score: 0.2620 - val_precision: 0.1851\n",
      "Epoch 2/30\n",
      "33000/33500 [============================>.] - ETA: 9s - loss: 0.0287 - acc: 0.9456 - recall: 0.6329 - fbeta_score: 0.3123 - precision: 0.2135 Epoch 00001: val_loss improved from 0.02992 to 0.02857, saving model to model_keras/weights.hdf5\n",
      "33500/33500 [==============================] - 747s - loss: 0.0287 - acc: 0.9455 - recall: 0.6343 - fbeta_score: 0.3127 - precision: 0.2136 - val_loss: 0.0286 - val_acc: 0.9426 - val_recall: 0.6079 - val_fbeta_score: 0.2636 - val_precision: 0.1749\n",
      "Epoch 3/30\n",
      "33000/33500 [============================>.] - ETA: 9s - loss: 0.0273 - acc: 0.9498 - recall: 0.6268 - fbeta_score: 0.3325 - precision: 0.2329 Epoch 00002: val_loss improved from 0.02857 to 0.02727, saving model to model_keras/weights.hdf5\n",
      "33500/33500 [==============================] - 747s - loss: 0.0271 - acc: 0.9500 - recall: 0.6279 - fbeta_score: 0.3335 - precision: 0.2336 - val_loss: 0.0273 - val_acc: 0.9479 - val_recall: 0.5660 - val_fbeta_score: 0.2712 - val_precision: 0.1862\n",
      "Epoch 4/30\n",
      "33000/33500 [============================>.] - ETA: 9s - loss: 0.0270 - acc: 0.9502 - recall: 0.6497 - fbeta_score: 0.3371 - precision: 0.2337 Epoch 00003: val_loss improved from 0.02727 to 0.02696, saving model to model_keras/weights.hdf5\n",
      "33500/33500 [==============================] - 747s - loss: 0.0270 - acc: 0.9502 - recall: 0.6499 - fbeta_score: 0.3379 - precision: 0.2344 - val_loss: 0.0270 - val_acc: 0.9338 - val_recall: 0.6769 - val_fbeta_score: 0.2592 - val_precision: 0.1653\n",
      "Epoch 5/30\n",
      "33000/33500 [============================>.] - ETA: 9s - loss: 0.0266 - acc: 0.9486 - recall: 0.6642 - fbeta_score: 0.3338 - precision: 0.2360 Epoch 00004: val_loss improved from 0.02696 to 0.02658, saving model to model_keras/weights.hdf5\n",
      "33500/33500 [==============================] - 747s - loss: 0.0265 - acc: 0.9487 - recall: 0.6671 - fbeta_score: 0.3363 - precision: 0.2377 - val_loss: 0.0266 - val_acc: 0.9397 - val_recall: 0.6265 - val_fbeta_score: 0.2646 - val_precision: 0.1727\n",
      "Epoch 6/30\n",
      "21000/33500 [=================>............] - ETA: 242s - loss: 0.0255 - acc: 0.9501 - recall: 0.6581 - fbeta_score: 0.3332 - precision: 0.2336"
     ]
    }
   ],
   "source": [
    "batch_size = 500\n",
    "nb_epoch = 30\n",
    "\n",
    "history_callback = model.fit(\n",
    "    X_train[:50000], Y_train[:50000], \n",
    "    batch_size=batch_size, \n",
    "    nb_epoch=nb_epoch,\n",
    "    class_weight=class_weight,\n",
    "    verbose=1, \n",
    "    shuffle=True,\n",
    "    validation_split=0.33,\n",
    "    callbacks=[earlyStopping, histroy, checkpointer])"
   ]
  },
  {
   "cell_type": "markdown",
   "metadata": {},
   "source": [
    "## Saving Model"
   ]
  },
  {
   "cell_type": "code",
   "execution_count": 134,
   "metadata": {
    "collapsed": false
   },
   "outputs": [],
   "source": [
    "'''saving model'''\n",
    "model.save('model_keras/loan_keras_echoch_30.hdf5')\n",
    "# del model"
   ]
  },
  {
   "cell_type": "markdown",
   "metadata": {},
   "source": [
    "## Visualize model"
   ]
  },
  {
   "cell_type": "code",
   "execution_count": 113,
   "metadata": {
    "collapsed": false,
    "scrolled": true
   },
   "outputs": [
    {
     "data": {
      "image/svg+xml": [
       "<svg height=\"1140pt\" viewBox=\"0.00 0.00 218.00 1140.00\" width=\"218pt\" xmlns=\"http://www.w3.org/2000/svg\" xmlns:xlink=\"http://www.w3.org/1999/xlink\">\n",
       "<g class=\"graph\" id=\"graph0\" transform=\"scale(1 1) rotate(0) translate(4 1136)\">\n",
       "<title>G</title>\n",
       "<polygon fill=\"white\" points=\"-4,4 -4,-1136 214,-1136 214,4 -4,4\" stroke=\"none\"/>\n",
       "<!-- 140122209853848 -->\n",
       "<g class=\"node\" id=\"node1\"><title>140122209853848</title>\n",
       "<polygon fill=\"none\" points=\"0,-1095.5 0,-1131.5 210,-1131.5 210,-1095.5 0,-1095.5\" stroke=\"black\"/>\n",
       "<text font-family=\"Times,serif\" font-size=\"14.00\" text-anchor=\"middle\" x=\"105\" y=\"-1109.8\">convolution2d_input_9: InputLayer</text>\n",
       "</g>\n",
       "<!-- 140122209749592 -->\n",
       "<g class=\"node\" id=\"node2\"><title>140122209749592</title>\n",
       "<polygon fill=\"none\" points=\"2,-1022.5 2,-1058.5 208,-1058.5 208,-1022.5 2,-1022.5\" stroke=\"black\"/>\n",
       "<text font-family=\"Times,serif\" font-size=\"14.00\" text-anchor=\"middle\" x=\"105\" y=\"-1036.8\">convolution2d_23: Convolution2D</text>\n",
       "</g>\n",
       "<!-- 140122209853848&#45;&gt;140122209749592 -->\n",
       "<g class=\"edge\" id=\"edge1\"><title>140122209853848-&gt;140122209749592</title>\n",
       "<path d=\"M105,-1095.31C105,-1087.29 105,-1077.55 105,-1068.57\" fill=\"none\" stroke=\"black\"/>\n",
       "<polygon fill=\"black\" points=\"108.5,-1068.53 105,-1058.53 101.5,-1068.53 108.5,-1068.53\" stroke=\"black\"/>\n",
       "</g>\n",
       "<!-- 140122209854072 -->\n",
       "<g class=\"node\" id=\"node3\"><title>140122209854072</title>\n",
       "<polygon fill=\"none\" points=\"27.5,-949.5 27.5,-985.5 182.5,-985.5 182.5,-949.5 27.5,-949.5\" stroke=\"black\"/>\n",
       "<text font-family=\"Times,serif\" font-size=\"14.00\" text-anchor=\"middle\" x=\"105\" y=\"-963.8\">activation_27: Activation</text>\n",
       "</g>\n",
       "<!-- 140122209749592&#45;&gt;140122209854072 -->\n",
       "<g class=\"edge\" id=\"edge2\"><title>140122209749592-&gt;140122209854072</title>\n",
       "<path d=\"M105,-1022.31C105,-1014.29 105,-1004.55 105,-995.569\" fill=\"none\" stroke=\"black\"/>\n",
       "<polygon fill=\"black\" points=\"108.5,-995.529 105,-985.529 101.5,-995.529 108.5,-995.529\" stroke=\"black\"/>\n",
       "</g>\n",
       "<!-- 140122209476848 -->\n",
       "<g class=\"node\" id=\"node4\"><title>140122209476848</title>\n",
       "<polygon fill=\"none\" points=\"1.5,-876.5 1.5,-912.5 208.5,-912.5 208.5,-876.5 1.5,-876.5\" stroke=\"black\"/>\n",
       "<text font-family=\"Times,serif\" font-size=\"14.00\" text-anchor=\"middle\" x=\"105\" y=\"-890.8\">maxpooling2d_15: MaxPooling2D</text>\n",
       "</g>\n",
       "<!-- 140122209854072&#45;&gt;140122209476848 -->\n",
       "<g class=\"edge\" id=\"edge3\"><title>140122209854072-&gt;140122209476848</title>\n",
       "<path d=\"M105,-949.313C105,-941.289 105,-931.547 105,-922.569\" fill=\"none\" stroke=\"black\"/>\n",
       "<polygon fill=\"black\" points=\"108.5,-922.529 105,-912.529 101.5,-922.529 108.5,-922.529\" stroke=\"black\"/>\n",
       "</g>\n",
       "<!-- 140122209951640 -->\n",
       "<g class=\"node\" id=\"node5\"><title>140122209951640</title>\n",
       "<polygon fill=\"none\" points=\"2,-803.5 2,-839.5 208,-839.5 208,-803.5 2,-803.5\" stroke=\"black\"/>\n",
       "<text font-family=\"Times,serif\" font-size=\"14.00\" text-anchor=\"middle\" x=\"105\" y=\"-817.8\">convolution2d_24: Convolution2D</text>\n",
       "</g>\n",
       "<!-- 140122209476848&#45;&gt;140122209951640 -->\n",
       "<g class=\"edge\" id=\"edge4\"><title>140122209476848-&gt;140122209951640</title>\n",
       "<path d=\"M105,-876.313C105,-868.289 105,-858.547 105,-849.569\" fill=\"none\" stroke=\"black\"/>\n",
       "<polygon fill=\"black\" points=\"108.5,-849.529 105,-839.529 101.5,-849.529 108.5,-849.529\" stroke=\"black\"/>\n",
       "</g>\n",
       "<!-- 140122209518872 -->\n",
       "<g class=\"node\" id=\"node6\"><title>140122209518872</title>\n",
       "<polygon fill=\"none\" points=\"27.5,-730.5 27.5,-766.5 182.5,-766.5 182.5,-730.5 27.5,-730.5\" stroke=\"black\"/>\n",
       "<text font-family=\"Times,serif\" font-size=\"14.00\" text-anchor=\"middle\" x=\"105\" y=\"-744.8\">activation_28: Activation</text>\n",
       "</g>\n",
       "<!-- 140122209951640&#45;&gt;140122209518872 -->\n",
       "<g class=\"edge\" id=\"edge5\"><title>140122209951640-&gt;140122209518872</title>\n",
       "<path d=\"M105,-803.313C105,-795.289 105,-785.547 105,-776.569\" fill=\"none\" stroke=\"black\"/>\n",
       "<polygon fill=\"black\" points=\"108.5,-776.529 105,-766.529 101.5,-776.529 108.5,-776.529\" stroke=\"black\"/>\n",
       "</g>\n",
       "<!-- 140122209607408 -->\n",
       "<g class=\"node\" id=\"node7\"><title>140122209607408</title>\n",
       "<polygon fill=\"none\" points=\"1.5,-657.5 1.5,-693.5 208.5,-693.5 208.5,-657.5 1.5,-657.5\" stroke=\"black\"/>\n",
       "<text font-family=\"Times,serif\" font-size=\"14.00\" text-anchor=\"middle\" x=\"105\" y=\"-671.8\">maxpooling2d_16: MaxPooling2D</text>\n",
       "</g>\n",
       "<!-- 140122209518872&#45;&gt;140122209607408 -->\n",
       "<g class=\"edge\" id=\"edge6\"><title>140122209518872-&gt;140122209607408</title>\n",
       "<path d=\"M105,-730.313C105,-722.289 105,-712.547 105,-703.569\" fill=\"none\" stroke=\"black\"/>\n",
       "<polygon fill=\"black\" points=\"108.5,-703.529 105,-693.529 101.5,-703.529 108.5,-703.529\" stroke=\"black\"/>\n",
       "</g>\n",
       "<!-- 140122209605448 -->\n",
       "<g class=\"node\" id=\"node8\"><title>140122209605448</title>\n",
       "<polygon fill=\"none\" points=\"2,-584.5 2,-620.5 208,-620.5 208,-584.5 2,-584.5\" stroke=\"black\"/>\n",
       "<text font-family=\"Times,serif\" font-size=\"14.00\" text-anchor=\"middle\" x=\"105\" y=\"-598.8\">convolution2d_25: Convolution2D</text>\n",
       "</g>\n",
       "<!-- 140122209607408&#45;&gt;140122209605448 -->\n",
       "<g class=\"edge\" id=\"edge7\"><title>140122209607408-&gt;140122209605448</title>\n",
       "<path d=\"M105,-657.313C105,-649.289 105,-639.547 105,-630.569\" fill=\"none\" stroke=\"black\"/>\n",
       "<polygon fill=\"black\" points=\"108.5,-630.529 105,-620.529 101.5,-630.529 108.5,-630.529\" stroke=\"black\"/>\n",
       "</g>\n",
       "<!-- 140122209651848 -->\n",
       "<g class=\"node\" id=\"node9\"><title>140122209651848</title>\n",
       "<polygon fill=\"none\" points=\"27.5,-511.5 27.5,-547.5 182.5,-547.5 182.5,-511.5 27.5,-511.5\" stroke=\"black\"/>\n",
       "<text font-family=\"Times,serif\" font-size=\"14.00\" text-anchor=\"middle\" x=\"105\" y=\"-525.8\">activation_29: Activation</text>\n",
       "</g>\n",
       "<!-- 140122209605448&#45;&gt;140122209651848 -->\n",
       "<g class=\"edge\" id=\"edge8\"><title>140122209605448-&gt;140122209651848</title>\n",
       "<path d=\"M105,-584.313C105,-576.289 105,-566.547 105,-557.569\" fill=\"none\" stroke=\"black\"/>\n",
       "<polygon fill=\"black\" points=\"108.5,-557.529 105,-547.529 101.5,-557.529 108.5,-557.529\" stroke=\"black\"/>\n",
       "</g>\n",
       "<!-- 140122209205664 -->\n",
       "<g class=\"node\" id=\"node10\"><title>140122209205664</title>\n",
       "<polygon fill=\"none\" points=\"42.5,-438.5 42.5,-474.5 167.5,-474.5 167.5,-438.5 42.5,-438.5\" stroke=\"black\"/>\n",
       "<text font-family=\"Times,serif\" font-size=\"14.00\" text-anchor=\"middle\" x=\"105\" y=\"-452.8\">dropout_9: Dropout</text>\n",
       "</g>\n",
       "<!-- 140122209651848&#45;&gt;140122209205664 -->\n",
       "<g class=\"edge\" id=\"edge9\"><title>140122209651848-&gt;140122209205664</title>\n",
       "<path d=\"M105,-511.313C105,-503.289 105,-493.547 105,-484.569\" fill=\"none\" stroke=\"black\"/>\n",
       "<polygon fill=\"black\" points=\"108.5,-484.529 105,-474.529 101.5,-484.529 108.5,-484.529\" stroke=\"black\"/>\n",
       "</g>\n",
       "<!-- 140122209168240 -->\n",
       "<g class=\"node\" id=\"node11\"><title>140122209168240</title>\n",
       "<polygon fill=\"none\" points=\"50,-365.5 50,-401.5 160,-401.5 160,-365.5 50,-365.5\" stroke=\"black\"/>\n",
       "<text font-family=\"Times,serif\" font-size=\"14.00\" text-anchor=\"middle\" x=\"105\" y=\"-379.8\">flatten_5: Flatten</text>\n",
       "</g>\n",
       "<!-- 140122209205664&#45;&gt;140122209168240 -->\n",
       "<g class=\"edge\" id=\"edge10\"><title>140122209205664-&gt;140122209168240</title>\n",
       "<path d=\"M105,-438.313C105,-430.289 105,-420.547 105,-411.569\" fill=\"none\" stroke=\"black\"/>\n",
       "<polygon fill=\"black\" points=\"108.5,-411.529 105,-401.529 101.5,-411.529 108.5,-411.529\" stroke=\"black\"/>\n",
       "</g>\n",
       "<!-- 140122209393520 -->\n",
       "<g class=\"node\" id=\"node12\"><title>140122209393520</title>\n",
       "<polygon fill=\"none\" points=\"54,-292.5 54,-328.5 156,-328.5 156,-292.5 54,-292.5\" stroke=\"black\"/>\n",
       "<text font-family=\"Times,serif\" font-size=\"14.00\" text-anchor=\"middle\" x=\"105\" y=\"-306.8\">dense_9: Dense</text>\n",
       "</g>\n",
       "<!-- 140122209168240&#45;&gt;140122209393520 -->\n",
       "<g class=\"edge\" id=\"edge11\"><title>140122209168240-&gt;140122209393520</title>\n",
       "<path d=\"M105,-365.313C105,-357.289 105,-347.547 105,-338.569\" fill=\"none\" stroke=\"black\"/>\n",
       "<polygon fill=\"black\" points=\"108.5,-338.529 105,-328.529 101.5,-338.529 108.5,-338.529\" stroke=\"black\"/>\n",
       "</g>\n",
       "<!-- 140122208922312 -->\n",
       "<g class=\"node\" id=\"node13\"><title>140122208922312</title>\n",
       "<polygon fill=\"none\" points=\"27.5,-219.5 27.5,-255.5 182.5,-255.5 182.5,-219.5 27.5,-219.5\" stroke=\"black\"/>\n",
       "<text font-family=\"Times,serif\" font-size=\"14.00\" text-anchor=\"middle\" x=\"105\" y=\"-233.8\">activation_30: Activation</text>\n",
       "</g>\n",
       "<!-- 140122209393520&#45;&gt;140122208922312 -->\n",
       "<g class=\"edge\" id=\"edge12\"><title>140122209393520-&gt;140122208922312</title>\n",
       "<path d=\"M105,-292.313C105,-284.289 105,-274.547 105,-265.569\" fill=\"none\" stroke=\"black\"/>\n",
       "<polygon fill=\"black\" points=\"108.5,-265.529 105,-255.529 101.5,-265.529 108.5,-265.529\" stroke=\"black\"/>\n",
       "</g>\n",
       "<!-- 140122209015848 -->\n",
       "<g class=\"node\" id=\"node14\"><title>140122209015848</title>\n",
       "<polygon fill=\"none\" points=\"39.5,-146.5 39.5,-182.5 170.5,-182.5 170.5,-146.5 39.5,-146.5\" stroke=\"black\"/>\n",
       "<text font-family=\"Times,serif\" font-size=\"14.00\" text-anchor=\"middle\" x=\"105\" y=\"-160.8\">dropout_10: Dropout</text>\n",
       "</g>\n",
       "<!-- 140122208922312&#45;&gt;140122209015848 -->\n",
       "<g class=\"edge\" id=\"edge13\"><title>140122208922312-&gt;140122209015848</title>\n",
       "<path d=\"M105,-219.313C105,-211.289 105,-201.547 105,-192.569\" fill=\"none\" stroke=\"black\"/>\n",
       "<polygon fill=\"black\" points=\"108.5,-192.529 105,-182.529 101.5,-192.529 108.5,-192.529\" stroke=\"black\"/>\n",
       "</g>\n",
       "<!-- 140122209068648 -->\n",
       "<g class=\"node\" id=\"node15\"><title>140122209068648</title>\n",
       "<polygon fill=\"none\" points=\"50.5,-73.5 50.5,-109.5 159.5,-109.5 159.5,-73.5 50.5,-73.5\" stroke=\"black\"/>\n",
       "<text font-family=\"Times,serif\" font-size=\"14.00\" text-anchor=\"middle\" x=\"105\" y=\"-87.8\">dense_10: Dense</text>\n",
       "</g>\n",
       "<!-- 140122209015848&#45;&gt;140122209068648 -->\n",
       "<g class=\"edge\" id=\"edge14\"><title>140122209015848-&gt;140122209068648</title>\n",
       "<path d=\"M105,-146.313C105,-138.289 105,-128.547 105,-119.569\" fill=\"none\" stroke=\"black\"/>\n",
       "<polygon fill=\"black\" points=\"108.5,-119.529 105,-109.529 101.5,-119.529 108.5,-119.529\" stroke=\"black\"/>\n",
       "</g>\n",
       "<!-- 140122208684688 -->\n",
       "<g class=\"node\" id=\"node16\"><title>140122208684688</title>\n",
       "<polygon fill=\"none\" points=\"27.5,-0.5 27.5,-36.5 182.5,-36.5 182.5,-0.5 27.5,-0.5\" stroke=\"black\"/>\n",
       "<text font-family=\"Times,serif\" font-size=\"14.00\" text-anchor=\"middle\" x=\"105\" y=\"-14.8\">activation_31: Activation</text>\n",
       "</g>\n",
       "<!-- 140122209068648&#45;&gt;140122208684688 -->\n",
       "<g class=\"edge\" id=\"edge15\"><title>140122209068648-&gt;140122208684688</title>\n",
       "<path d=\"M105,-73.3129C105,-65.2895 105,-55.5475 105,-46.5691\" fill=\"none\" stroke=\"black\"/>\n",
       "<polygon fill=\"black\" points=\"108.5,-46.5288 105,-36.5288 101.5,-46.5289 108.5,-46.5288\" stroke=\"black\"/>\n",
       "</g>\n",
       "</g>\n",
       "</svg>"
      ],
      "text/plain": [
       "<IPython.core.display.SVG object>"
      ]
     },
     "execution_count": 113,
     "metadata": {},
     "output_type": "execute_result"
    }
   ],
   "source": [
    "# Kplot(model, to_file='model.png')\n",
    "SVG(model_to_dot(model).create(prog='dot', format='svg'))"
   ]
  },
  {
   "cell_type": "code",
   "execution_count": 49,
   "metadata": {
    "collapsed": false
   },
   "outputs": [
    {
     "data": {
      "text/plain": [
       "{'acc': [0.92516417834740972],\n",
       " 'fbeta_score': [0.17152127050864163],\n",
       " 'loss': [0.044079768624323515],\n",
       " 'precision': [0.12972501209422724],\n",
       " 'recall': [0.33848127811702328],\n",
       " 'val_acc': [0.94254544828877307],\n",
       " 'val_fbeta_score': [0.24772631286671667],\n",
       " 'val_loss': [0.03059009959300359],\n",
       " 'val_precision': [0.16582647869081207],\n",
       " 'val_recall': [0.55210841063297156]}"
      ]
     },
     "execution_count": 49,
     "metadata": {},
     "output_type": "execute_result"
    }
   ],
   "source": [
    "history_callback.history[]"
   ]
  },
  {
   "cell_type": "code",
   "execution_count": 147,
   "metadata": {
    "collapsed": false
   },
   "outputs": [
    {
     "data": {
      "image/png": "[encoded data removed]",
      "text/plain": [
       "<matplotlib.figure.Figure at 0x7f2bd272d240>"
      ]
     },
     "metadata": {},
     "output_type": "display_data"
    }
   ],
   "source": [
    "# summarize history for loss\n",
    "plt.subplot(121)\n",
    "plt.plot(history_callback.history['loss'])\n",
    "plt.plot(history_callback.history['val_loss'])\n",
    "plt.title('model loss')\n",
    "plt.ylabel('loss')\n",
    "plt.xlabel('epoch')\n",
    "plt.legend(['train', 'test'], loc='upper left');\n",
    "# summarize history for f1-score\n",
    "plt.subplot(122)\n",
    "plt.plot(history_callback.history['fbeta_score'])\n",
    "plt.plot(history_callback.history['val_fbeta_score'])\n",
    "plt.title('model f1_score')\n",
    "plt.ylabel('loss')\n",
    "plt.xlabel('epoch')\n",
    "plt.legend(['train', 'test'], loc='upper left');"
   ]
  },
  {
   "cell_type": "code",
   "execution_count": 142,
   "metadata": {
    "collapsed": false
   },
   "outputs": [
    {
     "data": {
      "text/plain": [
       "dict_keys(['recall', 'acc', 'loss', 'val_fbeta_score', 'val_precision', 'val_acc', 'val_loss', 'precision', 'fbeta_score', 'val_recall'])"
      ]
     },
     "execution_count": 142,
     "metadata": {},
     "output_type": "execute_result"
    }
   ],
   "source": [
    "history_callback.history.keys()"
   ]
  },
  {
   "cell_type": "code",
   "execution_count": null,
   "metadata": {
    "collapsed": true
   },
   "outputs": [],
   "source": []
  },
  {
   "cell_type": "code",
   "execution_count": null,
   "metadata": {
    "collapsed": true
   },
   "outputs": [],
   "source": []
  },
  {
   "cell_type": "markdown",
   "metadata": {},
   "source": [
    "## Prediction"
   ]
  },
  {
   "cell_type": "code",
   "execution_count": 66,
   "metadata": {
    "collapsed": false
   },
   "outputs": [
    {
     "name": "stdout",
     "output_type": "stream",
     "text": [
      "97001/97001 [==============================] - 577s   \n"
     ]
    }
   ],
   "source": [
    "score = model.predict_proba(X_test[:])\n",
    "y_pred = np.argmax(score, 1)"
   ]
  },
  {
   "cell_type": "code",
   "execution_count": 100,
   "metadata": {
    "collapsed": false
   },
   "outputs": [
    {
     "name": "stdout",
     "output_type": "stream",
     "text": [
      "(97001, 2)\n",
      "(97001,)\n"
     ]
    }
   ],
   "source": [
    "print(score.shape)\n",
    "print(Y_test[:, 1].shape)"
   ]
  },
  {
   "cell_type": "code",
   "execution_count": 105,
   "metadata": {
    "collapsed": false
   },
   "outputs": [
    {
     "name": "stdout",
     "output_type": "stream",
     "text": [
      "[[ 0.37940976  0.62059021]\n",
      " [ 0.71043259  0.28956744]\n",
      " [ 0.94951671  0.05048323]\n",
      " [ 0.99341595  0.0065841 ]\n",
      " [ 0.99260992  0.00739012]]\n",
      "[1 0 0 0 0]\n"
     ]
    }
   ],
   "source": [
    "print(score[:5])\n",
    "print(y_pred[:5])"
   ]
  },
  {
   "cell_type": "code",
   "execution_count": 106,
   "metadata": {
    "collapsed": false
   },
   "outputs": [],
   "source": [
    "# http://stackoverflow.com/questions/8486294/how-to-add-an-extra-column-to-an-numpy-array\n",
    "y_score = np.c_[score, Y_test[:, 1]]"
   ]
  },
  {
   "cell_type": "code",
   "execution_count": 102,
   "metadata": {
    "collapsed": false
   },
   "outputs": [],
   "source": [
    "# save prediction\n",
    "np.savetxt(\"prediction/y_score.csv\", y_score, delimiter=\",\")"
   ]
  },
  {
   "cell_type": "code",
   "execution_count": 110,
   "metadata": {
    "collapsed": false
   },
   "outputs": [
    {
     "data": {
      "text/plain": [
       "array([0, 0, 0, ..., 0, 0, 0])"
      ]
     },
     "execution_count": 110,
     "metadata": {},
     "output_type": "execute_result"
    }
   ],
   "source": [
    "y_test = np.argmax(Y_test, 1)\n",
    "y_test"
   ]
  },
  {
   "cell_type": "code",
   "execution_count": 116,
   "metadata": {
    "collapsed": false
   },
   "outputs": [
    {
     "name": "stdout",
     "output_type": "stream",
     "text": [
      "Accuracy: 0.944\n",
      "Recall: 0.568\n",
      "Precision: 0.184\n",
      "F1: 0.277\n"
     ]
    }
   ],
   "source": [
    "accuracy = accuracy_score(y_test, y_pred)\n",
    "recall = recall_score(y_test, y_pred)\n",
    "precision = precision_score(y_test, y_pred)\n",
    "f1 = f1_score(y_test, y_pred)\n",
    "\n",
    "print('Accuracy: {:.3f}'.format(accuracy))\n",
    "print('Recall: {:.3f}'.format(recall))\n",
    "print('Precision: {:.3f}'.format(precision))\n",
    "print('F1: {:.3f}'.format(f1))"
   ]
  },
  {
   "cell_type": "code",
   "execution_count": null,
   "metadata": {
    "collapsed": true
   },
   "outputs": [],
   "source": []
  }
 ],
 "metadata": {
  "anaconda-cloud": {},
  "kernelspec": {
   "display_name": "Python [conda root]",
   "language": "python",
   "name": "conda-root-py"
  },
  "language_info": {
   "codemirror_mode": {
    "name": "ipython",
    "version": 3
   },
   "file_extension": ".py",
   "mimetype": "text/x-python",
   "name": "python",
   "nbconvert_exporter": "python",
   "pygments_lexer": "ipython3",
   "version": "3.5.2"
  }
 },
 "nbformat": 4,
 "nbformat_minor": 1
}
